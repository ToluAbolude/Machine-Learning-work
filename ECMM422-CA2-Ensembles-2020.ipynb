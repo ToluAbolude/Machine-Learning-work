{
 "cells": [
  {
   "cell_type": "markdown",
   "metadata": {},
   "source": [
    "<H1 style=\"text-align: center\">ECMM422 - Machine Learning</H1>\n",
    "<H2 style=\"text-align: center\">Assignment 2: Ensemble Methods</H2>"
   ]
  },
  {
   "cell_type": "markdown",
   "metadata": {},
   "source": [
    "\n",
    "\n",
    "| <font style=\"font-size:larger;\">Date set     | <font style=\"font-size:larger;\">Hand-in date |\n",
    "|:------------------|:-----------------------------------|\n",
    "|<font style=\"font-size:larger;\"> 12th February 2020 |<font style=\"font-size:larger;\">**  12 noon, Wednesday 19th February 2020 ** |\n",
    "\n",
    "</font>"
   ]
  },
  {
   "cell_type": "markdown",
   "metadata": {},
   "source": [
    "Candidate number:  <font color=\"red\">*660028124*</font>\n",
    "\n",
    "Marking is anonymous, so please don't write your name or reveal your identity!"
   ]
  },
  {
   "cell_type": "markdown",
   "metadata": {},
   "source": [
    "This assigment will count for 25% of the module mark.  \n",
    "\n",
    "Your report should consist of your IPython notebook showing what you did, what was the\n",
    "result, and what you can conclude from the exercise. Each report will be\n",
    "assessed on the following criteria:\n",
    "\n",
    "* Does it record what was done in the exercise?\n",
    "* Does it permit the results to be reproduced?\n",
    "* How does the work relate to the theoretical foundations discussed in lectures?\n",
    "* Is it well presented?\n",
    "\n",
    "### Submitting the notebooks\n",
    "\n",
    "Note that an electronic submission is required.  You should also submit the notebook electronically at [electronic hand-in system]( http://empslocal.ex.ac.uk/submit/).  You just need to submit the single .ipynb file that is the notebook, so you should be able to upload it directly from the directory where you have saved it on a University machine or your laptop.  If you're not sure where in your homespace it is, type <code>pwd</code> (print working directory) in a cell to find out where the notebooks are.\n",
    "\n",
    "<b>Note: you must also submit your cover sheet and E-Submit receipt via BART to complete the submission.</b>\n"
   ]
  },
  {
   "cell_type": "markdown",
   "metadata": {},
   "source": [
    "<div class=\"alert alert-info\">\n",
    " Although you will undoubtedly work collaboratively in the workshops themselves, these are *individual* exercises.  The reports you write should be about the results *you* obtained, and your attention is drawn to the College and University guidelines on collaboration and plagiarism. \n",
    " </div>"
   ]
  },
  {
   "cell_type": "code",
   "execution_count": 4,
   "metadata": {},
   "outputs": [],
   "source": [
    "# for matrices and numerical methods\n",
    "import numpy as np\n",
    "\n",
    "# for plotting functions\n",
    "import matplotlib.pyplot as plt\n",
    "\n",
    "# for loading the data we will use\n",
    "from sklearn import datasets, tree\n",
    "\n",
    "# for KFold cross-validation\n",
    "from sklearn.model_selection import KFold,train_test_split\n",
    "\n",
    "# for calculating accuracy, check help(accuracy_score) for details\n",
    "from sklearn.metrics import accuracy_score\n",
    "\n",
    "# for having progress bars for longer processes, use help(tqdm) for syntax\n",
    "from tqdm import tqdm\n",
    "\n",
    "\n",
    "import warnings\n",
    "warnings.filterwarnings(\"ignore\")\n"
   ]
  },
  {
   "cell_type": "markdown",
   "metadata": {},
   "source": [
    "# Ensemble learning \n",
    "\n",
    "In this workshop you will investigate how ensemble of trees perform on a classification task and the importance of the parameters. We will use a digit classification task as an example. \n",
    "This will be done in the following stages: \n",
    "\n",
    "1. Training a tree on the data and evaluating the bias and variance of the model, using N-fold cross validation. \n",
    "2. Comparing performance with a random forest, evaluating the effect of tree depth and forest size\n",
    "3. Build a boosted collection of trees and evaluate the performance. \n",
    "\n",
    "At each stage you should test your code and check the results\n"
   ]
  },
  {
   "cell_type": "markdown",
   "metadata": {},
   "source": [
    "### Data: The digits dataset"
   ]
  },
  {
   "cell_type": "markdown",
   "metadata": {},
   "source": [
    "For this CA you should use the <i>digits</i> data available in <tt>sklearn</tt> as an example (see below)."
   ]
  },
  {
   "cell_type": "code",
   "execution_count": 5,
   "metadata": {},
   "outputs": [
    {
     "data": {
      "image/png": "[encoded data removed]",
      "text/plain": [
       "<Figure size 432x288 with 10 Axes>"
      ]
     },
     "metadata": {
      "needs_background": "light"
     },
     "output_type": "display_data"
    }
   ],
   "source": [
    "# loading the digit data\n",
    "(X,Y) = datasets.load_digits(return_X_y=True)\n",
    "\n",
    "# let's display some examples (the first 10 digits in the dataset)\n",
    "plt.figure()\n",
    "for i in range(10): \n",
    "    plt.subplot(2,5,i+1)\n",
    "    plt.imshow(X[i,:].reshape((8,8)))\n",
    "    plt.title('{}'.format(i))\n",
    "    plt.axis('off')\n",
    "\n",
    "Xtrain, Xtest, Ytrain, Ytest = train_test_split(X,Y, test_size=0.25)\n",
    "folds = 5\n",
    "kfold = KFold(n_splits=folds)    # 5 fold CV here.\n",
    "plt.show()"
   ]
  },
  {
   "cell_type": "markdown",
   "metadata": {},
   "source": [
    "### Decision Tree\n",
    "\n",
    "In this part you are asked to train a decision tree on the digits data. You should use the implementation of the classification tree in sklearn, which allows you to play with the parameters (read the documentation). Read especially on the <i>max_depth</i>, <i>min_samples_split</i> and <i>min_samples_leaf</i> parameters. \n",
    "* Draw a graph of the mean and variance of the classification accuracy depending on tree depth - use N-fold cross validation to get these estimates.\n",
    "<div style=\"text-align: right\"><b>[15 marks]</b></div>\n",
    "* Calculate the confusion matrix for the tree with the best performance. <div style=\"text-align: right\"><b>[10 marks]</b></div>\n"
   ]
  },
  {
   "cell_type": "code",
   "execution_count": 6,
   "metadata": {},
   "outputs": [
    {
     "name": "stderr",
     "output_type": "stream",
     "text": [
      "100%|██████████| 25/25 [00:01<00:00, 20.60it/s]\n"
     ]
    },
    {
     "name": "stdout",
     "output_type": "stream",
     "text": [
      "\n",
      "Performance: \n",
      "\t- the error on the test set with the best depth 10\n"
     ]
    },
    {
     "data": {
      "image/png": "[encoded data removed]",
      "text/plain": [
       "<Figure size 432x288 with 1 Axes>"
      ]
     },
     "metadata": {
      "needs_background": "light"
     },
     "output_type": "display_data"
    }
   ],
   "source": [
    "from math import sqrt\n",
    "from sklearn.tree import DecisionTreeClassifier\n",
    "from sklearn.model_selection import cross_val_score\n",
    "def decision_tree(max_depth_range):\n",
    "    # List of values to try for max_depth:\n",
    "    # List to store the average RMSE for each value of max_depth:\n",
    "    accuracy = []\n",
    "    variance_list = []\n",
    "    error = []\n",
    "    for depth in tqdm(max_depth_range):\n",
    "        kfs = KFold(n_splits=folds,shuffle=True,random_state=0)\n",
    "        scores = []\n",
    "        for train,validation in kfs.split(Xtrain):\n",
    "            clf = DecisionTreeClassifier(max_depth = depth,min_samples_split = 3,min_samples_leaf=1\n",
    "                                 ,random_state=1)\n",
    "            clf.fit(Xtrain[train],Ytrain[train])\n",
    "            scores.append( clf.score(Xtrain[validation],Ytrain[validation]))\n",
    "\n",
    "        variance = np.array(scores).var()\n",
    "        variance_list.append(variance)    \n",
    "        validation_sum = sqrt(np.array(scores).mean())\n",
    "        error.append(1-validation_sum)\n",
    "        accuracy.append(validation_sum)\n",
    "\n",
    "\n",
    "\n",
    "    best_depth_index = accuracy.index(max(accuracy))\n",
    "    best_depth = max_depth_range[best_depth_index]\n",
    "    best_error = error[best_depth_index]\n",
    "    return best_depth,accuracy,variance_list,error,best_error\n",
    "\n",
    "max_depth_range = list(range(1, 26))\n",
    "best_depth,accuracy,variance_list,error,best_error = decision_tree(max_depth_range)\n",
    "print()\n",
    "# yerr = np.sqrt(variance_list)\n",
    "# plt.errorbar(max_depth_range,accuracy,yerr)\n",
    "\n",
    "print(\"Performance: \\n\\t- the error on the test set with the best depth %d\"%(best_depth))\n",
    "plt.plot(max_depth_range,accuracy,\"b.-\")\n",
    "\n",
    "plt.xlabel('Tree depth')\n",
    "plt.ylabel('Accuracy')    \n",
    "plt.show()"
   ]
  },
  {
   "cell_type": "code",
   "execution_count": 7,
   "metadata": {},
   "outputs": [
    {
     "name": "stdout",
     "output_type": "stream",
     "text": [
      "\n"
     ]
    },
    {
     "name": "stderr",
     "output_type": "stream",
     "text": [
      "100%|██████████| 25/25 [00:01<00:00, 19.86it/s]\n"
     ]
    },
    {
     "name": "stdout",
     "output_type": "stream",
     "text": [
      "Performance: \n",
      "\t- The forest with best performance is 10 \n",
      "\t- the error on the validation set with 0.088542\n"
     ]
    },
    {
     "data": {
      "image/png": "[encoded data removed]",
      "text/plain": [
       "<Figure size 432x288 with 1 Axes>"
      ]
     },
     "metadata": {
      "needs_background": "light"
     },
     "output_type": "display_data"
    }
   ],
   "source": [
    "print()\n",
    "best_depth,accuracy,variance_list,error,best_error= decision_tree(max_depth_range)\n",
    "yerr = np.sqrt(variance_list)\n",
    "plt.errorbar(max_depth_range,error,yerr)\n",
    "\n",
    "print('Performance: \\n\\t- The forest with best performance is %d \\n\\t- the error on the validation set with %f' % (best_depth,best_error))\n",
    "plt.plot(max_depth_range,error,\"r.-\")\n",
    "\n",
    "plt.xlabel('Tree Depth')\n",
    "plt.ylabel('Error')    \n",
    "plt.show()"
   ]
  },
  {
   "cell_type": "code",
   "execution_count": 8,
   "metadata": {},
   "outputs": [
    {
     "data": {
      "image/png": "[encoded data removed]",
      "text/plain": [
       "<Figure size 432x288 with 1 Axes>"
      ]
     },
     "metadata": {
      "needs_background": "light"
     },
     "output_type": "display_data"
    }
   ],
   "source": [
    "plt.plot(max_depth_range,variance_list,\"g.-\",label='Validation data')\n",
    "\n",
    "plt.legend(loc='lower right')\n",
    "plt.xlabel('Tree Depth')\n",
    "plt.ylabel('Variance')    \n",
    "plt.show()"
   ]
  },
  {
   "cell_type": "markdown",
   "metadata": {},
   "source": [
    "Function for plotting the confusion matrix, taken from \n",
    "https://scikit-learn.org/stable/auto_examples/model_selection/plot_confusion_matrix.html#sphx-glr-auto-examples-model-selection-plot-confusion-matrix-py"
   ]
  },
  {
   "cell_type": "code",
   "execution_count": 6,
   "metadata": {},
   "outputs": [],
   "source": [
    "import itertools\n",
    "from sklearn.metrics import confusion_matrix\n",
    "def plot_confusion_matrix(cm, classes,\n",
    "                          normalize=False,\n",
    "                          title='Confusion matrix',\n",
    "                          cmap=plt.cm.Blues):\n",
    "    \"\"\"\n",
    "    This function prints and plots the confusion matrix.\n",
    "    Normalization can be applied by setting `normalize=True`.\n",
    "    \"\"\"\n",
    "    if normalize:\n",
    "        cm = cm.astype('float') / cm.sum(axis=1)[:, np.newaxis]\n",
    "        print(\"Normalized confusion matrix\")\n",
    "    else:\n",
    "        print('Confusion matrix, without normalization')\n",
    "\n",
    "    print(cm)\n",
    "\n",
    "    plt.imshow(cm, interpolation='nearest', cmap=cmap)\n",
    "    plt.title(title)\n",
    "    plt.colorbar()\n",
    "    tick_marks = np.arange(len(classes))\n",
    "    plt.xticks(tick_marks, classes, rotation=45)\n",
    "    plt.yticks(tick_marks, classes)\n",
    "\n",
    "    fmt = '.2f' if normalize else 'd'\n",
    "    thresh = cm.max() / 2.\n",
    "    for i, j in itertools.product(range(cm.shape[0]), range(cm.shape[1])):\n",
    "        plt.text(j, i, format(cm[i, j], fmt),\n",
    "                 horizontalalignment=\"center\",\n",
    "                 color=\"white\" if cm[i, j] > thresh else \"black\")\n",
    "\n",
    "    plt.ylabel('True label')\n",
    "    plt.xlabel('Predicted label')\n",
    "    plt.tight_layout()"
   ]
  },
  {
   "cell_type": "code",
   "execution_count": 7,
   "metadata": {},
   "outputs": [
    {
     "name": "stdout",
     "output_type": "stream",
     "text": [
      "Test data performance score:  0.8444444444444444\n",
      "Confusion matrix, without normalization\n",
      "[[48  0  0  0  1  0  0  0  0  1]\n",
      " [ 0 40  1  2  2  0  0  0  4  1]\n",
      " [ 0  3 30  0  2  0  0  2  1  0]\n",
      " [ 0  2  2 30  0  2  1  4  0  0]\n",
      " [ 0  2  0  0 45  1  2  0  0  0]\n",
      " [ 1  0  1  2  1 41  1  0  0  0]\n",
      " [ 0  0  0  0  4  0 35  0  1  0]\n",
      " [ 0  0  0  0  4  0  0 38  0  1]\n",
      " [ 1  2  1  0  0  2  0  1 47  0]\n",
      " [ 0  1  0  4  0  1  0  2  3 26]]\n"
     ]
    },
    {
     "data": {
      "image/png": "[encoded data removed]",
      "text/plain": [
       "<Figure size 432x288 with 2 Axes>"
      ]
     },
     "metadata": {
      "needs_background": "light"
     },
     "output_type": "display_data"
    }
   ],
   "source": [
    "# we predict the classes on the test data\n",
    "clf = DecisionTreeClassifier(max_depth = best_depth, min_samples_split = 2,min_samples_leaf=3,random_state = 0)\n",
    "clf.fit(Xtrain, Ytrain)\n",
    "pte = clf.predict(Xtest)\n",
    "print(\"Test data performance score: \",clf.score(Xtest,Ytest))\n",
    "\n",
    "# and we calculate the confusion matrix\n",
    "cm = confusion_matrix(Ytest, pte)\n",
    "np.set_printoptions(precision=2)\n",
    "plot_confusion_matrix(cm, np.unique(Ytrain))\n",
    "plt.show()"
   ]
  },
  {
   "cell_type": "markdown",
   "metadata": {},
   "source": [
    "### Random Forests\n",
    "In this part, you are asked to use Random Forest using sklearn trees as weak learners. You will use the function provided by sklearn: <tt> sklearn.ensemble.RandomForestClassifier</tt>. "
   ]
  },
  {
   "cell_type": "markdown",
   "metadata": {},
   "source": [
    "Once you have coded this, provide a graph of the accuracy curves for different <b>tree depths</b> and <b>forest size</b>: \n",
    "* The first graph with the forest size as the $x$-axis, classification error as the $y$-axis.\n",
    "<div style=\"text-align: right\"><b>[10 marks]</b></div>\n",
    "* The second graph with tree depth (eg, for 1,2,5 and 10) as the $x$-axis, classification error as the $y$-axis.\n",
    "<div style=\"text-align: right\"><b>[10 marks]</b></div>\n",
    "* Again, use N-Fold cross-validation to plot <b>error bars</b> on your graphs. \n",
    "<div style=\"text-align: right\"><b>[10 marks]</b></div>\n",
    "* As before, provide the <b>confusion matrix</b> for the forest with best performance. \n",
    "<div style=\"text-align: right\"><b>[10 marks]</b></div>"
   ]
  },
  {
   "cell_type": "code",
   "execution_count": 8,
   "metadata": {},
   "outputs": [],
   "source": [
    "from sklearn.ensemble import RandomForestClassifier\n",
    "def random_forest_size(forest_size):\n",
    "    error = []\n",
    "    variance_list = []\n",
    "    accuracy = [] \n",
    "    for x in tqdm(forest_size):\n",
    "        rf = RandomForestClassifier(n_estimators = x,random_state=1 )\n",
    "        scores = cross_val_score(rf,Xtrain, Ytrain)\n",
    "        validation_sum = sqrt(scores.mean())\n",
    "        accuracy.append(1-validation_sum)\n",
    "        error.append(1-validation_sum)\n",
    "        variance = scores.var()\n",
    "        variance_list.append(variance)\n",
    "\n",
    "    # ERROR INDEX:\n",
    "    best_error_index = error.index(min(error))\n",
    "    best_error_depth = forest_size[best_error_index]\n",
    "    best_error = error[best_error_index]\n",
    "    \n",
    "    # ACCURACY INDEX:     \n",
    "    best_accuracy_index = accuracy.index(max(accuracy))\n",
    "    best_accuracy_depth = forest_size[best_accuracy_index]\n",
    "    best_accuracy = accuracy[best_accuracy_index]\n",
    "    \n",
    "    return best_error_depth,best_accuracy_depth,best_error,best_accuracy,variance_list,error,accuracy"
   ]
  },
  {
   "cell_type": "code",
   "execution_count": 9,
   "metadata": {},
   "outputs": [
    {
     "name": "stderr",
     "output_type": "stream",
     "text": [
      "100%|██████████| 100/100 [00:26<00:00,  3.73it/s]\n"
     ]
    },
    {
     "name": "stdout",
     "output_type": "stream",
     "text": [
      "Performance: \n",
      "\t- The forest size with best performance is 96 \n",
      "\t- the error on the validation set with 0.015332\n"
     ]
    },
    {
     "data": {
      "image/png": "[encoded data removed]",
      "text/plain": [
       "<Figure size 432x288 with 1 Axes>"
      ]
     },
     "metadata": {
      "needs_background": "light"
     },
     "output_type": "display_data"
    }
   ],
   "source": [
    "forest_size = list(range(1, 101))\n",
    "best_forest_size,best_accuracy_depth,best_error,best_accuracy,variance_list,error,accuracy = random_forest_size(forest_size)\n",
    "\n",
    "print('Performance: \\n\\t- The forest size with best performance is %d \\n\\t- the error on the validation set with %f' % (best_forest_size,best_error))\n",
    "\n",
    "\n",
    "yerr = np.sqrt(variance_list)\n",
    "plt.errorbar(forest_size,error,yerr)\n",
    "\n",
    "plt.plot(forest_size,error,\"g.-\")\n",
    "plt.xlabel('Forest Size')\n",
    "plt.ylabel('Error')    \n",
    "plt.show()\n",
    "\n",
    "# print()\n",
    "# print(clf.feature_importances_)"
   ]
  },
  {
   "cell_type": "code",
   "execution_count": 10,
   "metadata": {},
   "outputs": [],
   "source": [
    "def random_forest_tree_depth(tree_depth):\n",
    "    error = []\n",
    "    variance_list = []\n",
    "    accuracy = [] \n",
    "    for x in tqdm(tree_depth):\n",
    "        rf = RandomForestClassifier(max_depth = x,random_state=1 )\n",
    "        scores = cross_val_score(rf,Xtrain, Ytrain)\n",
    "        validation_sum = sqrt(scores.mean())\n",
    "        accuracy.append(1-validation_sum)\n",
    "        error.append(1-validation_sum)\n",
    "        variance = scores.var()\n",
    "        variance_list.append(variance)\n",
    "\n",
    "     # ERROR INDEX:\n",
    "    best_error_index = error.index(min(error))\n",
    "    best_error_depth = tree_depth[best_error_index]\n",
    "    best_error = error[best_error_index]\n",
    "    \n",
    "    # ACCURACY INDEX:     \n",
    "    best_accuracy_index = accuracy.index(max(accuracy))\n",
    "    best_accuracy_depth = tree_depth[best_accuracy_index]\n",
    "    best_accuracy = accuracy[best_accuracy_index]\n",
    "    \n",
    "    return best_error_depth,best_accuracy_depth,best_error,best_accuracy,variance_list,error,accuracy"
   ]
  },
  {
   "cell_type": "code",
   "execution_count": 11,
   "metadata": {
    "scrolled": false
   },
   "outputs": [
    {
     "name": "stderr",
     "output_type": "stream",
     "text": [
      "100%|██████████| 25/25 [00:01<00:00, 17.90it/s]\n"
     ]
    },
    {
     "name": "stdout",
     "output_type": "stream",
     "text": [
      "Performance: \n",
      "\t- The tree depth with best performance is 8 \n",
      "\t- the error on the best tree depth is 0.030917\n"
     ]
    },
    {
     "data": {
      "image/png": "[encoded data removed]",
      "text/plain": [
       "<Figure size 432x288 with 1 Axes>"
      ]
     },
     "metadata": {
      "needs_background": "light"
     },
     "output_type": "display_data"
    }
   ],
   "source": [
    "td = list(range(1,26))\n",
    "best_tree_depth,best_accuracy_depth,best_error,best_accuracy,variance_list,error,accuracy = random_forest_tree_depth(td)\n",
    "\n",
    "print('Performance: \\n\\t- The tree depth with best performance is %d \\n\\t- the error on the best tree depth is %f' % (best_tree_depth,best_error))\n",
    "\n",
    "\n",
    "plt.plot(td,error,\"r.-\")\n",
    "yerr = np.sqrt(variance_list)\n",
    "plt.errorbar(td,error,yerr)\n",
    "\n",
    "# plt.legend(loc='upper right')\n",
    "plt.xlabel('Tree Depth')\n",
    "plt.ylabel('Error')    \n",
    "plt.show()\n"
   ]
  },
  {
   "cell_type": "code",
   "execution_count": 12,
   "metadata": {},
   "outputs": [
    {
     "name": "stdout",
     "output_type": "stream",
     "text": [
      "Test data performance score:  0.9555555555555556\n",
      "Confusion matrix, without normalization\n",
      "[[49  0  0  0  1  0  0  0  0  0]\n",
      " [ 0 49  0  0  0  1  0  0  0  0]\n",
      " [ 0  1 37  0  0  0  0  0  0  0]\n",
      " [ 0  0  0 37  0  3  0  0  1  0]\n",
      " [ 0  0  0  0 49  0  0  1  0  0]\n",
      " [ 0  0  0  0  0 45  1  0  0  1]\n",
      " [ 1  0  0  0  1  0 38  0  0  0]\n",
      " [ 0  0  0  0  0  0  0 43  0  0]\n",
      " [ 0  2  1  0  0  1  0  0 50  0]\n",
      " [ 0  0  0  1  0  0  0  2  1 33]]\n"
     ]
    },
    {
     "data": {
      "image/png": "[encoded data removed]",
      "text/plain": [
       "<Figure size 432x288 with 2 Axes>"
      ]
     },
     "metadata": {
      "needs_background": "light"
     },
     "output_type": "display_data"
    }
   ],
   "source": [
    "# we predict the classes on the test data\n",
    "rf = RandomForestClassifier(max_depth = best_tree_depth,random_state=1,n_estimators = best_forest_size )\n",
    "rf.fit(Xtrain, Ytrain)\n",
    "pterf = rf.predict(Xtest)\n",
    "print(\"Test data performance score: \",rf.score(Xtest,Ytest))\n",
    "\n",
    "# and we calculate the confusion matrix\n",
    "cm = confusion_matrix(Ytest, pterf)\n",
    "np.set_printoptions(precision=2)\n",
    "plot_confusion_matrix(cm, np.unique(Ytrain))\n",
    "plt.show()"
   ]
  },
  {
   "cell_type": "markdown",
   "metadata": {},
   "source": [
    "### Boosting\n",
    "In this last section you are asked to use AdaBooost using sklearn tree stumps (trees with a single non-leaf node) as weak learners. You will use the function provided by sklearn: <tt>sklearn.ensemble.AdaBoostClassifier</tt>\n",
    "which supports multiclass problems. "
   ]
  },
  {
   "cell_type": "markdown",
   "metadata": {},
   "source": [
    "Once you have done this, plot a similar curve as you did before, with boosting rounds as $x$-axis, classification error as $y$-axis and one curve for tree depth of 1,2,5 and 10, using N-Fold cross-validation to obtain error bars.\n",
    "<div style=\"text-align: right\"><b>[20 marks]</b></div>"
   ]
  },
  {
   "cell_type": "code",
   "execution_count": 21,
   "metadata": {},
   "outputs": [],
   "source": [
    "from sklearn.ensemble import AdaBoostClassifier\n",
    "\n",
    "def Adaboost_rounds(boosting_rounds):\n",
    "    # List to store the average RMSE for each value of max_depth:\n",
    "    variance_list = []\n",
    "    error = []\n",
    "    for a in tqdm(boosting_rounds):\n",
    "        n_folds = KFold(n_splits=folds,shuffle=True,random_state=0)\n",
    "        scores = []\n",
    "        for tra,val in n_folds.split(Xtrain):\n",
    "            clf = DecisionTreeClassifier(min_samples_split = 3,min_samples_leaf=1,random_state=1) # min_samples_split = 2\n",
    "            boosting = AdaBoostClassifier(clf,learning_rate = 1,n_estimators = a\n",
    "                                 ,random_state=1)\n",
    "            boosting.fit(Xtrain[tra],Ytrain[tra])\n",
    "            scores.append( boosting.score(Xtrain[val],Ytrain[val]))\n",
    "\n",
    "        variance = np.array(scores).var()\n",
    "        variance_list.append(variance) \n",
    "        validation_sum = sqrt(np.array(scores).mean())\n",
    "        error.append(1-validation_sum)\n",
    "        \n",
    "\n",
    "    best_depth_index = error.index(min(error))\n",
    "    best_depth = boosting_rounds[best_depth_index] \n",
    "    best_error = error[best_depth_index]\n",
    "    return best_depth,variance_list,error,best_error"
   ]
  },
  {
   "cell_type": "code",
   "execution_count": 22,
   "metadata": {},
   "outputs": [
    {
     "name": "stderr",
     "output_type": "stream",
     "text": [
      "100%|██████████| 100/100 [05:58<00:00,  3.58s/it]\n"
     ]
    },
    {
     "name": "stdout",
     "output_type": "stream",
     "text": [
      "Performance: \n",
      "\t- The best performance is 87 \n",
      "\t- the lowest error is 0.010455\n"
     ]
    },
    {
     "data": {
      "image/png": "[encoded data removed]",
      "text/plain": [
       "<Figure size 432x288 with 1 Axes>"
      ]
     },
     "metadata": {
      "needs_background": "light"
     },
     "output_type": "display_data"
    }
   ],
   "source": [
    "td = list(range(1,101))\n",
    "best_depth,variance_list,error,best_error = Adaboost_rounds(td)\n",
    "\n",
    "\n",
    "yerr = np.sqrt(variance_list)\n",
    "plt.errorbar(td,error,yerr)\n",
    "\n",
    "print('Performance: \\n\\t- The best performance is %d \\n\\t- the lowest error is %f' % (best_depth,best_error))\n",
    "plt.plot(td,error,\"r.-\")\n",
    "\n",
    "plt.xlabel('Boosting Rounds')\n",
    "plt.ylabel('Error')    \n",
    "plt.show()"
   ]
  },
  {
   "cell_type": "code",
   "execution_count": 19,
   "metadata": {},
   "outputs": [],
   "source": [
    "def Adaboost_depth(depth):\n",
    "    # List to store the average RMSE for each value of max_depth:\n",
    "    variance_list = []\n",
    "    error = []\n",
    "    for a in tqdm(depth):\n",
    "        n_folds = KFold(n_splits=folds,shuffle=True,random_state=0)\n",
    "        scores = []\n",
    "        for tra,val in n_folds.split(Xtrain):\n",
    "            clf = DecisionTreeClassifier(max_depth = a,min_samples_split = 3,min_samples_leaf=1,random_state=1) # min_samples_split = 2\n",
    "            boosting = AdaBoostClassifier(clf,learning_rate = 1,random_state=1)\n",
    "            boosting.fit(Xtrain[tra],Ytrain[tra])\n",
    "            scores.append( boosting.score(Xtrain[val],Ytrain[val]))\n",
    "\n",
    "        variance = np.array(scores).var()\n",
    "        variance_list.append(variance) \n",
    "        validation_sum = sqrt(np.array(scores).mean())\n",
    "        error.append(1-validation_sum)\n",
    "        \n",
    "\n",
    "    best_depth_index = error.index(min(error))\n",
    "    best_depth = depth[best_depth_index] \n",
    "    best_error = error[best_depth_index]\n",
    "    return best_depth,variance_list,error,best_error"
   ]
  },
  {
   "cell_type": "code",
   "execution_count": 20,
   "metadata": {},
   "outputs": [
    {
     "name": "stderr",
     "output_type": "stream",
     "text": [
      "100%|██████████| 25/25 [01:10<00:00,  2.83s/it]\n"
     ]
    },
    {
     "name": "stdout",
     "output_type": "stream",
     "text": [
      "\n",
      "Performance: \n",
      "\t- the best boosting round is  19 \n",
      "\t- the error on the validation set with 0.010824\n"
     ]
    },
    {
     "data": {
      "image/png": "[encoded data removed]",
      "text/plain": [
       "<Figure size 432x288 with 1 Axes>"
      ]
     },
     "metadata": {
      "needs_background": "light"
     },
     "output_type": "display_data"
    }
   ],
   "source": [
    "depth = list(range(1,26))\n",
    "best_depth,variance_list,error,best_error = Adaboost_depth(depth)\n",
    "\n",
    "yerr = np.sqrt(variance_list)\n",
    "plt.errorbar(depth,error,yerr)\n",
    "\n",
    "print()\n",
    "print(\"Performance: \\n\\t- the best boosting round is  %d \\n\\t- the error on the validation set with %f\"%(best_depth,best_error))\n",
    "plt.plot(depth,error,\"r.-\")\n",
    "\n",
    "plt.xlabel('Tree Depths')\n",
    "plt.ylabel('Error')    \n",
    "plt.show()"
   ]
  },
  {
   "cell_type": "markdown",
   "metadata": {},
   "source": [
    "Finally provide a summary table of the best performance obtained by each algorithm in your experiments (Decision Tree, Random Forest and Boosted Trees), along with the estimated processing time (use the <tt>timeit</tt> package to measure training time). \n",
    "<div style=\"text-align: right\"><b>[15 marks]</b></div>"
   ]
  },
  {
   "cell_type": "code",
   "execution_count": 23,
   "metadata": {},
   "outputs": [
    {
     "name": "stderr",
     "output_type": "stream",
     "text": [
      "100%|██████████| 25/25 [00:01<00:00, 19.88it/s]\n"
     ]
    },
    {
     "name": "stdout",
     "output_type": "stream",
     "text": [
      "Time elapsed for Decision Tree ids: 1.3s\n"
     ]
    }
   ],
   "source": [
    "# Here is a function you can use for timing the training time for each algorithm. \n",
    "# It would be better to use the timeit package or even a profiler to estimate accurately \n",
    "# the processing time of a system function, but this is overkill in this case as we \n",
    "# are only interested in fairly large time differences in fairly long processes\n",
    "# (also, rerunning thousands of time the functions as per timeit would be expensive in this case)\n",
    "\n",
    "# for timing functions\n",
    "from time import time\n",
    "\n",
    "# functions for timing execution \n",
    "# eg\n",
    "tics = []\n",
    "def tic(): \n",
    "    tics.append(time())\n",
    "def toc(): \n",
    "    if tics: \n",
    "        return time() - tics.pop()\n",
    "    else: \n",
    "        return None\n",
    "    \n",
    "# Example usage\n",
    "depth = list(range(1,26))\n",
    "tic() \n",
    "decision_tree(depth)\n",
    "time_elapsed_1 = toc()\n",
    "print('Time elapsed for Decision Tree ids: {:.2}s'.format(time_elapsed_1))"
   ]
  },
  {
   "cell_type": "code",
   "execution_count": 24,
   "metadata": {},
   "outputs": [
    {
     "name": "stderr",
     "output_type": "stream",
     "text": [
      "100%|██████████| 25/25 [00:01<00:00, 18.71it/s]\n"
     ]
    },
    {
     "name": "stdout",
     "output_type": "stream",
     "text": [
      "Time elapsed for Random Forest ids: 1.4s\n"
     ]
    }
   ],
   "source": [
    "tic() \n",
    "\n",
    "random_forest_tree_depth(depth)\n",
    "\n",
    "time_elapsed_3 = toc()\n",
    "print('Time elapsed for Random Forest ids: {:.2}s'.format(time_elapsed_3))"
   ]
  },
  {
   "cell_type": "code",
   "execution_count": 25,
   "metadata": {},
   "outputs": [
    {
     "name": "stderr",
     "output_type": "stream",
     "text": [
      "100%|██████████| 25/25 [01:10<00:00,  2.84s/it]\n"
     ]
    },
    {
     "name": "stdout",
     "output_type": "stream",
     "text": [
      "Time elapsed for Boosted Trees ids: 7.1e+01s\n"
     ]
    }
   ],
   "source": [
    "\n",
    "tic() \n",
    "\n",
    "Adaboost_depth(depth)\n",
    "time_elapsed_2 = toc()\n",
    "print('Time elapsed for Boosted Trees ids: {:.2}s'.format(time_elapsed_2))"
   ]
  },
  {
   "cell_type": "markdown",
   "metadata": {
    "collapsed": true
   },
   "source": [
    "### Report\n",
    "###### A summary table of the best performance along with the estimated processing time obtained by each algorithm in my experiments.\n",
    "\n",
    "|  | Decision Tree | Random Forest |Boosted Trees|\n",
    "| --- | --- | --- |---|\n",
    "| Best Perfromance (Lowest Error) |  0.088137 | 0.030917 |0.010824|\n",
    "| Estimated Processing Time (s)|  1.3|1.4 |7.1e+01"
   ]
  },
  {
   "cell_type": "markdown",
   "metadata": {},
   "source": [
    "The experiment had a range of 1 to 25 tree depths, because after 10~12 tree depth the graph stayed linear (It doesn't change values) even up to 100 tree depth. To ensure the performance comparison was fair I made the overall tree depth the same for all the respective methods. \n",
    "According to the table of processing time and best performance (which was measured by the lowest error generated from the set tree depth range), Boosted trees method had the best  performance whereas it took more estimated processing time. The Decision Tree has the worst performance compared to the other two but took the least estimated processing time.\n"
   ]
  },
  {
   "cell_type": "markdown",
   "metadata": {},
   "source": [
    "### Parameters\n",
    "\n",
    "#### Random Forest\n",
    "The primary parameters for the Random Forest and Boosting method were $n\\_estimators$ and $max\\_features$. The first is the amount of trees in the forest. The bigger the better, but also the longer it goes to calculate. Furthermore, I noticed that the results ceased to be substantially better after a set number of trees (10~12). The second is the size of the random subsets of the features to be considered when separating a node. Smaller subset size means increase in reduction of variance, yet also the greater the increase in bias [1]. It is set to None.\n",
    "\n",
    "#### Decision Tree\n",
    "$Max\\_depth$: This specifies the maximum depth of the tree [2]. In this experiment I use a depth of 25 to make the decision tree.This is to prevent an over-fitted decision tree. The depth parameter is among the places that adjusts the tree or restrict the direction it develops to stop over-fitting [2].\n",
    "\n",
    "$Min\\_samples\\_split$: The lowest possible amount of samples which a node must have to split. The default value for this is two. This is used to adjust the tree. In this experiment the value is set to three. \n",
    "\n",
    "$Min\\_samples\\_leaf$: The lowest amount of samples required to qualify a leaf node. In the experiment, the value is set to one. This parameter is used to restrict tree expansion [2].\n",
    "\n",
    "Positive results are quite often obtained when setting $max\\_depth$ = None in combination with min $samples\\_split$ = 2 (i.e. when the trees are fully developed).\n",
    "\n",
    "$Max\\_features$: The Misclassification error of a random forest declines with the Misclassification  error of an individual tree and the correlation between the trees. Subsampling is a way to decorate the trees. The increase in m (default number of features) makes small trees more effective, yet also expands their correlation. The ideal value of m accomplishes an exchange  between these two equally strong effects, and normally resides somewhere in between the spectrum.\n",
    "\n",
    "As for scikit-learn's default state of m = p (this is what was used in this experiment): as stated above, subsampling attributes are one of the key characteristics of random forests and improve their performance by decorrelating trees [3].\n",
    "#### Boosting\n",
    "$Learning\\_rate$: is the contribution for models to weights and the is set to one. Lowering the learning rate means the weights will be increased or reduced to a small extent, rendering the model train slower (but very often results in a better performance scores). There's a trade-off between learning rate and n estimators."
   ]
  },
  {
   "cell_type": "markdown",
   "metadata": {},
   "source": [
    "### Decision Tree\n",
    "As mentioned in the Ensemble Methods lecture. The role of this experiment was to train a tree on the data and evaluate the bias and variance of the model, using N-fold cross validation (To find the misclassification error).\n"
   ]
  },
  {
   "cell_type": "markdown",
   "metadata": {},
   "source": [
    "### Random Forest\n",
    "In random forests, every tree throughout the set is rendered from a sample from the training set, replacing it. The best partition can be found from all input features or a random subset of size $max\\_features$  (when splitting each node while building a tree).\n",
    "\n",
    "The objective for two sources of randomness is to reduce the variance of the forest estimator.  This is because individual decision trees tend to show high variance which leads to over-fitting. Inserted entropy in forests produces decision trees with otherwise decoupled prediction errors [2].\n",
    "\n",
    "Some errors can often be cancelled by taking an average of those predictions. Random forests produce a decreased variance by mixing a variety of trees, often at the expense of a slight increase in bias. In this experiment, the decrease in variance is often significant, resulting in a better and more consistent model.\n"
   ]
  },
  {
   "cell_type": "markdown",
   "metadata": {},
   "source": [
    "### Boosting\n",
    "\n",
    "AdaBoost's core concept is to adjust the pattern of weak learners (in this experiment it was a decision tree) on continually reconfigured versions of the data. Predictions from them are coupled by a weighted majority decision (or sum) to create the final estimation [2].\n",
    " \n",
    "Initially, all these weights are set so that the first step is literally to train a weak learner on the original data. Of each consecutive iteration, the sample weights are separately updated and the learning algorithm is re-applied to the re-weighted data.At that stage, certain training samples that were inaccurately estimated by the boosted model induced at a previous stage increases their weights, while the weights are reduced for those that were accurately estimated. When iterations continue, cases that are hard to predict may gain an ever-increasing influence."
   ]
  },
  {
   "cell_type": "markdown",
   "metadata": {},
   "source": [
    "### Reference:"
   ]
  },
  {
   "cell_type": "markdown",
   "metadata": {},
   "source": [
    "1  - Scikit-learn.org. (2020). 1.11. Ensemble methods — scikit-learn 0.22.1 documentation. [online] Available at: https://scikit-learn.org/stable/modules/ensemble.html [Accessed 13 Feb. 2020].\n"
   ]
  },
  {
   "cell_type": "markdown",
   "metadata": {},
   "source": [
    "2 - Ceballos, F. (2020). Scikit-Learn Decision Trees Explained. [online] Medium. Available at: https://towardsdatascience.com/scikit-learn-decision-trees-explained-803f3812290d [Accessed 10 Feb. 2020]."
   ]
  },
  {
   "cell_type": "markdown",
   "metadata": {},
   "source": [
    "3 - Breiman, L. (2001). RANDOM FORESTS. [ebook] Berkeley, CA. Available at: https://www.stat.berkeley.edu/~breiman/randomforest2001.pdf [Accessed 13 Feb. 2020]."
   ]
  }
 ],
 "metadata": {
  "anaconda-cloud": {},
  "kernelspec": {
   "display_name": "Python 3",
   "language": "python",
   "name": "python3"
  },
  "language_info": {
   "codemirror_mode": {
    "name": "ipython",
    "version": 3
   },
   "file_extension": ".py",
   "mimetype": "text/x-python",
   "name": "python",
   "nbconvert_exporter": "python",
   "pygments_lexer": "ipython3",
   "version": "3.7.4"
  }
 },
 "nbformat": 4,
 "nbformat_minor": 1
}
